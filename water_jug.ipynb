{
  "cells": [
    {
      "cell_type": "code",
      "execution_count": null,
      "id": "49957901",
      "metadata": {
        "id": "49957901",
        "outputId": "ed311093-22c3-4af9-aa02-156d534e064d"
      },
      "outputs": [
        {
          "name": "stdout",
          "output_type": "stream",
          "text": [
            "Enter capacity of JUG-1 :0\n",
            "Enter capacity of JUG-2 :1\n",
            "Enter how much do you want water :0\n",
            "Steps: \n",
            "0 0\n"
          ]
        },
        {
          "data": {
            "text/plain": [
              "True"
            ]
          },
          "execution_count": 2,
          "metadata": {},
          "output_type": "execute_result"
        }
      ],
      "source": [
        "\n",
        "from collections import defaultdict\n",
        "\n",
        "jug1=int(input(\"Enter capacity of JUG-1 :\"))\n",
        "jug2=int(input(\"Enter capacity of JUG-2 :\"))\n",
        "aim = int(input(\"Enter how much do you want water :\"))\n",
        "\n",
        "# Initialize dictionary with\n",
        "# default value as false.\n",
        "visited = defaultdict(lambda: False)\n",
        "\n",
        "# Recursive function which prints the\n",
        "# intermediate steps to reach the final\n",
        "# solution and return boolean value\n",
        "# (True if solution is possible, otherwise False).\n",
        "# amt1 and amt2 are the amount of water present\n",
        "# in both jugs at a certain point of time.\n",
        "def waterJugSolver(amt1, amt2):\n",
        "\n",
        "\t# Checks for our goal and\n",
        "\t# returns true if achieved.\n",
        "\tif (amt1 == aim and amt2 == 0) or (amt2 == aim and amt1 == 0):\n",
        "\t\tprint(amt1, amt2)\n",
        "\t\treturn True\n",
        "\t\n",
        "\t# Checks if we have already visited the\n",
        "\t# combination or not. If not, then it proceeds further.\n",
        "\tif visited[(amt1, amt2)] == False:\n",
        "\t\tprint(amt1, amt2)\n",
        "\t\n",
        "\t\t# Changes the boolean value of\n",
        "\t\t# the combination as it is visited.\n",
        "\t\tvisited[(amt1, amt2)] = True\n",
        "\t\n",
        "\t\t# Check for all the 6 possibilities and\n",
        "\t\t# see if a solution is found in any one of them.\n",
        "\t\treturn (waterJugSolver(0, amt2) or\n",
        "\t\t\t\twaterJugSolver(amt1, 0) or\n",
        "\t\t\t\twaterJugSolver(jug1, amt2) or\n",
        "\t\t\t\twaterJugSolver(amt1, jug2) or\n",
        "\t\t\t\twaterJugSolver(amt1 + min(amt2, (jug1-amt1)),amt2 - min(amt2, (jug1-amt1))) or\n",
        "\t\t\t\twaterJugSolver(amt1 - min(amt1, (jug2-amt2)),amt2 + min(amt1, (jug2-amt2))))\n",
        "\t\n",
        "\t# Return False if the combination is\n",
        "\t# already visited to avoid repetition otherwise\n",
        "\t# recursion will enter an infinite loop.\n",
        "\telse:\n",
        "\t\treturn False\n",
        "\n",
        "print(\"Steps: \")\n",
        "\n",
        "# Call the function and pass the\n",
        "# initial amount of water present in both jugs.\n",
        "waterJugSolver(0, 0)\n"
      ]
    },
    {
      "cell_type": "code",
      "execution_count": null,
      "id": "ca1cf3db",
      "metadata": {
        "id": "ca1cf3db"
      },
      "outputs": [],
      "source": []
    }
  ],
  "metadata": {
    "kernelspec": {
      "display_name": "Python 3 (ipykernel)",
      "language": "python",
      "name": "python3"
    },
    "language_info": {
      "codemirror_mode": {
        "name": "ipython",
        "version": 3
      },
      "file_extension": ".py",
      "mimetype": "text/x-python",
      "name": "python",
      "nbconvert_exporter": "python",
      "pygments_lexer": "ipython3",
      "version": "3.8.10"
    },
    "colab": {
      "provenance": []
    }
  },
  "nbformat": 4,
  "nbformat_minor": 5
}